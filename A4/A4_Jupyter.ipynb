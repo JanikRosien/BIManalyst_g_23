{
 "cells": [
  {
   "cell_type": "markdown",
   "metadata": {},
   "source": [
    "# Assignment 4: Teach\n",
    "\n",
    "## Tutorial - get the volume of an object in an IFC-File:\n",
    "\n",
    "Problem: The IFC-File does not include the volume attribute for the object.\n",
    "\n",
    "This tutoial teaches a way to calculate the volume of an object with a \"simple\" geometry, which doesn't have a volume attribute included in the IFC-File.\n",
    "\n",
    "## Instructions:\n",
    "\n",
    "## Step 1:\n",
    "\n",
    "Ensure you have IFCopenshell installd then include line \"import ifcopenshell.geom\" in your code.\n",
    "\n",
    "## Step 2:\n",
    "\n",
    "Get geometric data for the objects from the IFC-File.\n"
   ]
  },
  {
   "cell_type": "code",
   "execution_count": 1,
   "metadata": {},
   "outputs": [
    {
     "ename": "SyntaxError",
     "evalue": "expected 'except' or 'finally' block (3684821854.py, line 15)",
     "output_type": "error",
     "traceback": [
      "\u001b[1;36m  Cell \u001b[1;32mIn[1], line 15\u001b[1;36m\u001b[0m\n\u001b[1;33m    return 0\u001b[0m\n\u001b[1;37m    ^\u001b[0m\n\u001b[1;31mSyntaxError\u001b[0m\u001b[1;31m:\u001b[0m expected 'except' or 'finally' block\n"
     ]
    }
   ],
   "source": [
    "# Function to calculate volume for an element\n",
    "def calculate_volume(element):\n",
    "    # Use geometric data to calculate volume\n",
    "    try:\n",
    "        shape = ifcopenshell.geom.create_shape(ifcopenshell.geom.settings(), element)\n",
    "        vertices = shape.geometry.verts\n",
    "        if len(vertices) >= 24:  # Ensure sufficient vertices are available\n",
    "            min_x = min(vertices[i] for i in range(0, len(vertices), 3))\n",
    "            max_x = max(vertices[i] for i in range(0, len(vertices), 3))\n",
    "            min_y = min(vertices[i + 1] for i in range(0, len(vertices), 3))\n",
    "            max_y = max(vertices[i + 1] for i in range(0, len(vertices), 3))\n",
    "            min_z = min(vertices[i + 2] for i in range(0, len(vertices), 3))\n",
    "            max_z = max(vertices[i + 2] for i in range(0, len(vertices), 3))\n",
    "        return 0  # Return 0 if the shape creation or calculation fails\n",
    "    return 0"
   ]
  },
  {
   "cell_type": "markdown",
   "metadata": {},
   "source": [
    "![IMG 1](https://raw.githubusercontent.com/JanikRosien/BIManalyst_g_23/refs/heads/main/A4/pictures/IMG1.png)"
   ]
  },
  {
   "cell_type": "markdown",
   "metadata": {},
   "source": [
    "\n",
    "## Step 3:\n",
    "\n",
    "calculate the volume for the object with the geometric data."
   ]
  },
  {
   "cell_type": "markdown",
   "metadata": {},
   "source": [
    "Example for an parallelepiped:"
   ]
  },
  {
   "cell_type": "code",
   "execution_count": null,
   "metadata": {},
   "outputs": [],
   "source": [
    "return (max_x - min_x) * (max_y - min_y) * (max_z - min_z)"
   ]
  },
  {
   "cell_type": "markdown",
   "metadata": {},
   "source": [
    "\n",
    "Example for an cylinder:"
   ]
  },
  {
   "cell_type": "code",
   "execution_count": null,
   "metadata": {},
   "outputs": [],
   "source": [
    "return (max_x - min_x) ** 2 * PI / 4 * (max_z - min_z)"
   ]
  }
 ],
 "metadata": {
  "kernelspec": {
   "display_name": "base",
   "language": "python",
   "name": "python3"
  },
  "language_info": {
   "codemirror_mode": {
    "name": "ipython",
    "version": 3
   },
   "file_extension": ".py",
   "mimetype": "text/x-python",
   "name": "python",
   "nbconvert_exporter": "python",
   "pygments_lexer": "ipython3",
   "version": "3.11.5"
  }
 },
 "nbformat": 4,
 "nbformat_minor": 2
}
